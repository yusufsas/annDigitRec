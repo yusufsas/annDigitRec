{
  "nbformat": 4,
  "nbformat_minor": 0,
  "metadata": {
    "colab": {
      "provenance": [],
      "gpuType": "T4"
    },
    "kernelspec": {
      "name": "python3",
      "display_name": "Python 3"
    },
    "language_info": {
      "name": "python"
    },
    "accelerator": "GPU"
  },
  "cells": [
    {
      "cell_type": "code",
      "source": [
        "import torch\n",
        "import torch.nn as nn\n",
        "import torch.optim as optim\n",
        "from torch.utils.data import DataLoader, TensorDataset\n",
        "from torchvision import datasets, transforms\n",
        "import matplotlib.pyplot as plt\n",
        "from torch.utils.data.sampler import SubsetRandomSampler\n",
        "import numpy as np"
      ],
      "metadata": {
        "id": "en2rf80LW1Tz"
      },
      "execution_count": null,
      "outputs": []
    },
    {
      "cell_type": "code",
      "source": [
        "# Set device\n",
        "device = torch.device('cuda' if torch.cuda.is_available() else 'cpu')"
      ],
      "metadata": {
        "id": "YO_BnxL4XHPi"
      },
      "execution_count": null,
      "outputs": []
    },
    {
      "cell_type": "code",
      "source": [
        "# Define transform\n",
        "transform = transforms.Compose([\n",
        "    transforms.ToTensor(),\n",
        "    transforms.Normalize((0.5,), (0.5,))\n",
        "])"
      ],
      "metadata": {
        "id": "OHQNhQ-YXIxW"
      },
      "execution_count": null,
      "outputs": []
    },
    {
      "cell_type": "code",
      "source": [
        "# Load dataset\n",
        "train_dataset = datasets.MNIST(root='./data', train=True, download=True, transform=transform)\n",
        "test_dataset  = datasets.MNIST(root='./data', train=False, download=True, transform=transform)"
      ],
      "metadata": {
        "colab": {
          "base_uri": "https://localhost:8080/"
        },
        "id": "6Rx9W-_nXJu3",
        "outputId": "339c1452-fb6f-4ed7-c4e4-4102d9829938"
      },
      "execution_count": null,
      "outputs": [
        {
          "output_type": "stream",
          "name": "stderr",
          "text": [
            "100%|██████████| 9.91M/9.91M [00:01<00:00, 4.97MB/s]\n",
            "100%|██████████| 28.9k/28.9k [00:00<00:00, 129kB/s]\n",
            "100%|██████████| 1.65M/1.65M [00:01<00:00, 1.25MB/s]\n",
            "100%|██████████| 4.54k/4.54k [00:00<00:00, 6.01MB/s]\n"
          ]
        }
      ]
    },
    {
      "cell_type": "code",
      "source": [
        "# Mini-batch DataLoader\n",
        "batch_size = 64\n",
        "# train_loader = DataLoader(train_dataset, batch_size=batch_size, shuffle=True)\n",
        "test_loader  = DataLoader(test_dataset, batch_size=batch_size, shuffle=False)"
      ],
      "metadata": {
        "id": "TAYT_PftXKBj"
      },
      "execution_count": null,
      "outputs": []
    },
    {
      "cell_type": "code",
      "source": [
        "from torch.utils.data.sampler import SubsetRandomSampler\n",
        "import numpy as np\n",
        "\n",
        "# Tüm indexleri al\n",
        "num_train = len(train_dataset)\n",
        "indices = list(range(num_train))\n",
        "np.random.shuffle(indices)\n",
        "\n",
        "# %80 eğitim - %20 validasyon\n",
        "split = int(np.floor(0.2 * num_train))\n",
        "train_idx, valid_idx = indices[split:], indices[:split]\n",
        "\n",
        "# Sampler ayarları\n",
        "train_sampler = SubsetRandomSampler(train_idx)\n",
        "valid_sampler = SubsetRandomSampler(valid_idx)\n",
        "\n",
        "# DataLoader'lar\n",
        "train_loader = DataLoader(train_dataset, batch_size=batch_size, sampler=train_sampler)\n",
        "valid_loader = DataLoader(train_dataset, batch_size=batch_size, sampler=valid_sampler)\n"
      ],
      "metadata": {
        "id": "1k9Ey8LXUjGZ"
      },
      "execution_count": null,
      "outputs": []
    },
    {
      "cell_type": "code",
      "source": [
        "# Define CNN model\n",
        "class CNN(nn.Module):\n",
        "    def __init__(self):\n",
        "        super(CNN, self).__init__()\n",
        "        self.conv1 = nn.Conv2d(1, 16, kernel_size=5, padding=2)\n",
        "        self.pool = nn.MaxPool2d(2, 2)\n",
        "        self.conv2 = nn.Conv2d(16, 32, kernel_size=5, padding=2)\n",
        "        self.fc1 = nn.Linear(32 * 7 * 7, 128)ll\n",
        "        self.fc2 = nn.Linear(128, 10)\n",
        "        self.relu = nn.ReLU()\n",
        "\n",
        "    def forward(self, x):\n",
        "        x = self.pool(self.relu(self.conv1(x)))  # 28 -> 14\n",
        "        x = self.pool(self.relu(self.conv2(x)))  # 14 -> 7\n",
        "        x = x.view(-1, 32 * 7 * 7)\n",
        "        x = self.relu(self.fc1(x))\n",
        "        x = self.fc2(x)\n",
        "        return x"
      ],
      "metadata": {
        "id": "Q77LFWZ_XKQ6"
      },
      "execution_count": null,
      "outputs": []
    },
    {
      "cell_type": "code",
      "source": [
        "model = CNN().to(device)\n",
        "criterion = nn.CrossEntropyLoss()\n",
        "optimizer = optim.Adam(model.parameters(), lr = 0.001)\n",
        "print(optimizer)"
      ],
      "metadata": {
        "colab": {
          "base_uri": "https://localhost:8080/"
        },
        "id": "dK-NYRqZXKbF",
        "outputId": "5b58ba24-2b6d-4ce4-f5b3-8be7fefbd9b2"
      },
      "execution_count": null,
      "outputs": [
        {
          "output_type": "stream",
          "name": "stdout",
          "text": [
            "Adam (\n",
            "Parameter Group 0\n",
            "    amsgrad: False\n",
            "    betas: (0.9, 0.999)\n",
            "    capturable: False\n",
            "    differentiable: False\n",
            "    eps: 1e-08\n",
            "    foreach: None\n",
            "    fused: None\n",
            "    lr: 0.001\n",
            "    maximize: False\n",
            "    weight_decay: 0\n",
            ")\n"
          ]
        }
      ]
    },
    {
      "cell_type": "code",
      "source": [
        "print(\"Train dataset size: \", len(train_dataset))\n",
        "print(\"Test dataset size: \", len(test_dataset))"
      ],
      "metadata": {
        "colab": {
          "base_uri": "https://localhost:8080/"
        },
        "id": "lVMrdfvAXKk2",
        "outputId": "f31391b0-ced5-4976-f305-e9448910157a"
      },
      "execution_count": null,
      "outputs": [
        {
          "output_type": "stream",
          "name": "stdout",
          "text": [
            "Train dataset size:  60000\n",
            "Test dataset size:  10000\n"
          ]
        }
      ]
    },
    {
      "cell_type": "code",
      "source": [
        "num_batches = len(train_loader)\n",
        "print(f\"With batch_size={batch_size}, expected ≈{len(train_dataset)/batch_size:.1f} batches. Got {num_batches}.\")"
      ],
      "metadata": {
        "colab": {
          "base_uri": "https://localhost:8080/"
        },
        "id": "xF2UT9p4XKtz",
        "outputId": "0a74d124-e606-43f2-dedd-9a2f4824d833"
      },
      "execution_count": null,
      "outputs": [
        {
          "output_type": "stream",
          "name": "stdout",
          "text": [
            "With batch_size=64, expected ≈937.5 batches. Got 750.\n"
          ]
        }
      ]
    },
    {
      "cell_type": "code",
      "source": [
        "for batch_idx, (imgs, labels) in enumerate(train_loader):\n",
        "    print(\"  Batch\", batch_idx, \"‑ imgs:\", imgs.shape, \"labels:\", labels.shape)\n",
        "    break\n",
        "else:\n",
        "    print(\"Never entered the loop — loader is empty or raising inside.\")"
      ],
      "metadata": {
        "colab": {
          "base_uri": "https://localhost:8080/"
        },
        "id": "tyO7-pZfXK2e",
        "outputId": "93c75157-53da-447d-ff66-ff75a3136e32"
      },
      "execution_count": null,
      "outputs": [
        {
          "output_type": "stream",
          "name": "stdout",
          "text": [
            "  Batch 0 ‑ imgs: torch.Size([64, 1, 28, 28]) labels: torch.Size([64])\n"
          ]
        }
      ]
    },
    {
      "cell_type": "code",
      "source": [
        "num_epochs = 5\n",
        "train_losses, train_accuracies = [], []\n",
        "valid_losses, valid_accuracies = [], []\n",
        "\n",
        "for epoch in range(num_epochs):\n",
        "    # === EĞİTİM ===\n",
        "    model.train()\n",
        "    train_loss, train_correct, train_total = 0, 0, 0\n",
        "\n",
        "    for images, labels in train_loader:\n",
        "        images, labels = images.to(device), labels.to(device)\n",
        "\n",
        "        optimizer.zero_grad()\n",
        "        outputs = model(images)\n",
        "        loss = criterion(outputs, labels)\n",
        "        loss.backward()\n",
        "        optimizer.step()\n",
        "\n",
        "        train_loss += loss.item() * images.size(0)\n",
        "        _, preds = outputs.max(1)\n",
        "        train_correct += (preds == labels).sum().item()\n",
        "        train_total += labels.size(0)\n",
        "\n",
        "    train_losses.append(train_loss / train_total)\n",
        "    train_accuracies.append(train_correct / train_total)\n",
        "\n",
        "    # === VALIDASYON ===\n",
        "    model.eval()\n",
        "    valid_loss, valid_correct, valid_total = 0, 0, 0\n",
        "\n",
        "    with torch.no_grad():\n",
        "        for images, labels in valid_loader:\n",
        "            images, labels = images.to(device), labels.to(device)\n",
        "            outputs = model(images)\n",
        "            loss = criterion(outputs, labels)\n",
        "\n",
        "            valid_loss += loss.item() * images.size(0)\n",
        "            _, preds = outputs.max(1)\n",
        "            valid_correct += (preds == labels).sum().item()\n",
        "            valid_total += labels.size(0)\n",
        "\n",
        "    valid_losses.append(valid_loss / valid_total)\n",
        "    valid_accuracies.append(valid_correct / valid_total)\n",
        "\n",
        "    print(f\"Epoch {epoch+1}/{num_epochs} - \"\n",
        "          f\"Train Loss: {train_losses[-1]:.4f}, Acc: {train_accuracies[-1]:.4f} - \"\n",
        "          f\"Val Loss: {valid_losses[-1]:.4f}, Acc: {valid_accuracies[-1]:.4f}\")\n"
      ],
      "metadata": {
        "colab": {
          "base_uri": "https://localhost:8080/"
        },
        "id": "FAK26wqUXLm-",
        "outputId": "98a3e6af-00b2-447e-8f32-009b78bd0c02"
      },
      "execution_count": null,
      "outputs": [
        {
          "output_type": "stream",
          "name": "stdout",
          "text": [
            "Epoch 1/5 - Train Loss: 0.1982, Acc: 0.9378 - Val Loss: 0.0644, Acc: 0.9802\n",
            "Epoch 2/5 - Train Loss: 0.0546, Acc: 0.9825 - Val Loss: 0.0594, Acc: 0.9812\n",
            "Epoch 3/5 - Train Loss: 0.0375, Acc: 0.9885 - Val Loss: 0.0423, Acc: 0.9871\n",
            "Epoch 4/5 - Train Loss: 0.0277, Acc: 0.9911 - Val Loss: 0.0401, Acc: 0.9892\n",
            "Epoch 5/5 - Train Loss: 0.0216, Acc: 0.9935 - Val Loss: 0.0423, Acc: 0.9878\n"
          ]
        }
      ]
    },
    {
      "cell_type": "code",
      "source": [
        "plt.plot(train_losses, label='Train Loss')\n",
        "plt.plot(valid_losses, label='Val Loss')\n",
        "plt.xlabel('Epoch')\n",
        "plt.ylabel('Loss')\n",
        "plt.legend()\n",
        "plt.show()\n",
        "\n",
        "plt.plot(train_accuracies, label='Train Acc')\n",
        "plt.plot(valid_accuracies, label='Val Acc')\n",
        "plt.xlabel('Epoch')\n",
        "plt.ylabel('Accuracy')\n",
        "plt.legend()\n",
        "plt.show()\n"
      ],
      "metadata": {
        "colab": {
          "base_uri": "https://localhost:8080/",
          "height": 881
        },
        "id": "6QnB45cfXMyH",
        "outputId": "b1a9b73c-3a4e-4973-e546-395106c70348"
      },
      "execution_count": null,
      "outputs": [
        {
          "output_type": "display_data",
          "data": {
            "text/plain": [
              "<Figure size 640x480 with 1 Axes>"
            ],
            "image/png": "[encoded data removed]"
          },
          "metadata": {}
        },
        {
          "output_type": "display_data",
          "data": {
            "text/plain": [
              "<Figure size 640x480 with 1 Axes>"
            ],
            "image/png": "[encoded data removed]"
          },
          "metadata": {}
        }
      ]
    },
    {
      "cell_type": "code",
      "source": [
        "# Test setinde modelin başarısı\n",
        "model.eval()\n",
        "correct = 0\n",
        "total = 0\n",
        "with torch.no_grad():\n",
        "    for images, labels in test_loader:\n",
        "        images, labels = images.to(device), labels.to(device)\n",
        "        outputs = model(images)\n",
        "        _, preds = torch.max(outputs, 1)\n",
        "        correct += (preds == labels).sum().item()\n",
        "        total += labels.size(0)\n",
        "\n",
        "test_accuracy = correct / total\n",
        "print(f\"Final Test Accuracy: {test_accuracy:.4f}\")\n"
      ],
      "metadata": {
        "colab": {
          "base_uri": "https://localhost:8080/"
        },
        "id": "T5nfIvLDYNth",
        "outputId": "bd8cc74c-2741-45e7-b27a-610ffc2a182c"
      },
      "execution_count": null,
      "outputs": [
        {
          "output_type": "stream",
          "name": "stdout",
          "text": [
            "Final Test Accuracy: 0.9894\n"
          ]
        }
      ]
    },
    {
      "cell_type": "code",
      "source": [
        "import torchvision\n",
        "\n",
        "model.eval()\n",
        "images, labels = next(iter(test_loader))\n",
        "images, labels = images.to(device), labels.to(device)\n",
        "outputs = model(images)\n",
        "_, preds = outputs.max(1)\n",
        "\n",
        "# show first 8\n",
        "grid = torchvision.utils.make_grid(images[:8].cpu(), nrow=4, padding=2)\n",
        "plt.imshow(grid.permute(1,2,0).numpy())\n",
        "plt.title(\"Pred: \" + \" \".join(str(p.item()) for p in preds[:8].cpu()))\n",
        "plt.show()\n",
        "\n",
        "# misclassified indices in this batch\n",
        "wrong = (preds != labels)\n",
        "print(\"Misclassified in batch:\", torch.nonzero(wrong).flatten().tolist())"
      ],
      "metadata": {
        "colab": {
          "base_uri": "https://localhost:8080/",
          "height": 370
        },
        "id": "Xy7x0Ib9Xoa0",
        "outputId": "e26e5ec0-de4c-45c6-ac47-9907095f0dc2"
      },
      "execution_count": null,
      "outputs": [
        {
          "output_type": "stream",
          "name": "stderr",
          "text": [
            "WARNING:matplotlib.image:Clipping input data to the valid range for imshow with RGB data ([0..1] for floats or [0..255] for integers). Got range [-1.0..1.0].\n"
          ]
        },
        {
          "output_type": "display_data",
          "data": {
            "text/plain": [
              "<Figure size 640x480 with 1 Axes>"
            ],
            "image/png": "[encoded data removed]"
          },
          "metadata": {}
        },
        {
          "output_type": "stream",
          "name": "stdout",
          "text": [
            "Misclassified in batch: [62]\n"
          ]
        }
      ]
    },
    {
      "cell_type": "code",
      "source": [
        "import torch\n",
        "import torch.nn.functional as F\n",
        "\n",
        "model.eval()\n",
        "images = images.to(device)\n",
        "\n",
        "with torch.no_grad():\n",
        "    logits = model(images)               # shape: [batch_size, 10]\n",
        "    probs  = F.softmax(logits, dim=1)    # shape: [batch_size, 10], each row sums to 1\n",
        "\n",
        "# Predicted class (highest probability) for each sample\n",
        "preds = torch.argmax(probs, dim=1)       # shape: [batch_size]\n",
        "\n",
        "# If you want the probability of that top prediction:\n",
        "top_probs = probs[torch.arange(probs.size(0)), preds]\n",
        "\n",
        "# Example: print for first 5 images\n",
        "for i in range(5):\n",
        "    print(f\"Sample {i}: Predicted class = {preds[i].item()}, \"\n",
        "          f\"P = {top_probs[i].item():.4f}\")"
      ],
      "metadata": {
        "colab": {
          "base_uri": "https://localhost:8080/"
        },
        "id": "dmD35_bTXrDY",
        "outputId": "dcf235cc-8e8e-41e5-9a44-fddf7e8ef5c7"
      },
      "execution_count": null,
      "outputs": [
        {
          "output_type": "stream",
          "name": "stdout",
          "text": [
            "Sample 0: Predicted class = 7, P = 1.0000\n",
            "Sample 1: Predicted class = 2, P = 1.0000\n",
            "Sample 2: Predicted class = 1, P = 1.0000\n",
            "Sample 3: Predicted class = 0, P = 0.9986\n",
            "Sample 4: Predicted class = 4, P = 1.0000\n"
          ]
        }
      ]
    },
    {
      "cell_type": "code",
      "source": [],
      "metadata": {
        "id": "beclUHqQYItK"
      },
      "execution_count": null,
      "outputs": []
    }
  ]
}